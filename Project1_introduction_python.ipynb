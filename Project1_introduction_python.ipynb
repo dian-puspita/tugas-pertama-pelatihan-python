{
  "cells": [
    {
      "cell_type": "markdown",
      "metadata": {
        "id": "view-in-github",
        "colab_type": "text"
      },
      "source": [
        "<a href=\"https://colab.research.google.com/github/dian-puspita/tugas-pertama-pelatihan-python/blob/main/Project1_introduction_python.ipynb\" target=\"_parent\"><img src=\"https://colab.research.google.com/assets/colab-badge.svg\" alt=\"Open In Colab\"/></a>"
      ]
    },
    {
      "cell_type": "markdown",
      "id": "39bf7b14",
      "metadata": {
        "id": "39bf7b14"
      },
      "source": [
        "## Buatlah sebuah program yang:\n",
        "\n",
        "   1. Meminta input dari pengguna:\n",
        "\n",
        "       - Nama mahasiswa\n",
        "\n",
        "       - NIM mahasiswa\n",
        "\n",
        "       - Nilai ujian (dalam angka, 0–100)\n",
        "\n",
        "   2. Cek dan tampilkan tipe data dari setiap input.\n",
        "\n",
        "   3. Gunakan if-elif-else untuk menentukan kategori nilai, dengan kriteria sebagai berikut:\n",
        "   \n",
        "```\n",
        "Nilai | Kategori\n",
        "85 - 100 | A (Sangat Baik)\n",
        "75 - 84 | B (Baik)\n",
        "60 - 74 | C (Cukup)\n",
        "40 - 59 | D (Kurang)\n",
        "< 40 | E (Sangat Kurang)\n",
        "```\n",
        "\n",
        "```\n",
        "==== Ekspektasi Output Jawaban : =====\n",
        "Masukkan nama mahasiswa: Sarah\n",
        "Masukkan NIM: 12345678\n",
        "Masukkan nilai ujian (0-100): 81\n",
        "\n",
        "Nama: Sarah (type: <class 'str'>)\n",
        "NIM: 12345678 (type: <class 'str'>)\n",
        "Nilai: 81 (type: <class 'int'>)\n",
        "\n",
        "Hasil Evaluasi:\n",
        "Mahasiswa: Sarah (NIM: 12345678)\n",
        "Nilai Ujian: 81\n",
        "Kategori Nilai: B (Baik)\n",
        "```"
      ]
    },
    {
      "cell_type": "markdown",
      "source": [
        "Step Pertama menyediakan inputan untuk pengguna."
      ],
      "metadata": {
        "id": "CkAFLDMiUVXf"
      },
      "id": "CkAFLDMiUVXf"
    },
    {
      "cell_type": "code",
      "execution_count": null,
      "id": "e2ab644c",
      "metadata": {
        "id": "e2ab644c",
        "colab": {
          "base_uri": "https://localhost:8080/"
        },
        "outputId": "b355e643-6a29-4a05-917f-56f235e70649"
      },
      "outputs": [
        {
          "name": "stdout",
          "output_type": "stream",
          "text": [
            "Masukkan nama mahasiswa: Dela\n",
            "Masukkan NIM : 12345678\n",
            "Masukkan nilai ujian (0-100) : 90\n"
          ]
        }
      ],
      "source": [
        "# menyediakan inputan bagi pengguna\n",
        "nama = input (\"Masukkan nama mahasiswa: \")\n",
        "nim = input (\"Masukkan NIM : \")\n",
        "nilai_ujian = input(\"Masukkan nilai ujian (0-100) : \")\n",
        "\n",
        "#konversi inputan agar menjadi tipe data integer\n",
        "nilai = int(nilai_ujian)"
      ]
    },
    {
      "cell_type": "markdown",
      "source": [
        "Step Kedua, Menampilkan tipe data dari setiap inputan yang ada di step 1."
      ],
      "metadata": {
        "id": "FQ4H9FJuUemX"
      },
      "id": "FQ4H9FJuUemX"
    },
    {
      "cell_type": "code",
      "source": [
        "#Cek dan tampilkan tipe data dari setiap input\n",
        "print(f\"Nama : {nama} (type: {type(nama)})\")\n",
        "print(f\"NIM: {nim} (type: {type(nim)})\")\n",
        "print(f\"Nilai Ujian : {nilai_ujian} (type: {type(nilai)})\")"
      ],
      "metadata": {
        "colab": {
          "base_uri": "https://localhost:8080/"
        },
        "id": "zjaFsgHTRoX8",
        "outputId": "5b2f9e54-451a-45bb-9dcf-995d3d9889b3"
      },
      "id": "zjaFsgHTRoX8",
      "execution_count": null,
      "outputs": [
        {
          "output_type": "stream",
          "name": "stdout",
          "text": [
            "Nama : Dela (type: <class 'str'>)\n",
            "NIM: 12345678 (type: <class 'str'>)\n",
            "Nilai Ujian : 90 (type: <class 'int'>)\n"
          ]
        }
      ]
    },
    {
      "cell_type": "markdown",
      "source": [
        "Step ketiga, menggunakan if else untuk mengkategorikan nilai mahasiswa dengan kriteria berikut:\n",
        "Nilai | Kategori\n",
        "85 - 100 | A (Sangat Baik)\n",
        "75 - 84 | B (Baik)\n",
        "60 - 74 | C (Cukup)\n",
        "40 - 59 | D (Kurang)\n",
        "< 40 | E (Sangat Kurang)"
      ],
      "metadata": {
        "id": "Gz_KUrqhUqUy"
      },
      "id": "Gz_KUrqhUqUy"
    },
    {
      "cell_type": "code",
      "source": [
        "#Mengkategorikan nilai\n",
        "if nilai <= 100 and nilai >=85 :\n",
        "  print(\"A\", \"Sangat Baik\")\n",
        "elif nilai <= 84 and nilai >=75:\n",
        "  print(\"B\", \"Baik\")\n",
        "elif nilai <= 74 and nilai >=60:\n",
        "  print(\"C\", \"Cukup\")\n",
        "elif nilai <= 59 and nilai >= 40:\n",
        "  print(\"D\", \"Kurang\")\n",
        "else:\n",
        "  print(\"E\", \"Sangat Kurang\")"
      ],
      "metadata": {
        "colab": {
          "base_uri": "https://localhost:8080/"
        },
        "id": "ubuTvRmNUL0I",
        "outputId": "0f2a0fde-7aa9-4f3f-9eb2-0047ffbf86b7"
      },
      "id": "ubuTvRmNUL0I",
      "execution_count": null,
      "outputs": [
        {
          "output_type": "stream",
          "name": "stdout",
          "text": [
            "A Sangat Baik\n"
          ]
        }
      ]
    },
    {
      "cell_type": "code",
      "source": [],
      "metadata": {
        "id": "1zgHj5kuUjxh"
      },
      "id": "1zgHj5kuUjxh",
      "execution_count": null,
      "outputs": []
    }
  ],
  "metadata": {
    "kernelspec": {
      "display_name": "Python 3 (ipykernel)",
      "language": "python",
      "name": "python3"
    },
    "language_info": {
      "codemirror_mode": {
        "name": "ipython",
        "version": 3
      },
      "file_extension": ".py",
      "mimetype": "text/x-python",
      "name": "python",
      "nbconvert_exporter": "python",
      "pygments_lexer": "ipython3",
      "version": "3.11.4"
    },
    "colab": {
      "provenance": [],
      "include_colab_link": true
    }
  },
  "nbformat": 4,
  "nbformat_minor": 5
}